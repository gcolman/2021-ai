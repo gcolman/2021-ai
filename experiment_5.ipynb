{
 "cells": [
  {
   "cell_type": "code",
   "execution_count": 1,
   "id": "handed-progressive",
   "metadata": {},
   "outputs": [
    {
     "name": "stdout",
     "output_type": "stream",
     "text": [
      "Collecting package metadata (current_repodata.json): done\n",
      "Solving environment: done\n",
      "\n",
      "# All requested packages already installed.\n",
      "\n"
     ]
    }
   ],
   "source": [
    "!conda install boto3 pandas -y"
   ]
  },
  {
   "cell_type": "code",
   "execution_count": 2,
   "id": "pregnant-convertible",
   "metadata": {},
   "outputs": [],
   "source": [
    "import boto3\n",
    "import os\n",
    "import pandas as pd\n",
    "from dateutil.parser import parse\n",
    "import json\n",
    "import numpy as np\n",
    "import matplotlib.pyplot as plt"
   ]
  },
  {
   "cell_type": "code",
   "execution_count": 3,
   "id": "detailed-rebate",
   "metadata": {
    "ExecuteTime": {
     "end_time": "2021-03-16T00:56:58.338591Z",
     "start_time": "2021-03-16T00:56:58.227245Z"
    }
   },
   "outputs": [],
   "source": [
    "MYREGION=\"us-east-1\"\n",
    "MYBUCKET='summit-game-records'\n",
    "s3 = boto3.client('s3', region_name=MYREGION,\n",
    "                   aws_access_key_id=os.environ['AWS_ACCESS_KEY_ID'],\n",
    "                   aws_secret_access_key=os.environ['AWS_SECRET_ACCESS_KEY'])\n",
    "#print(len(s3.list_objects_v2(Bucket=MYBUCKET)))"
   ]
  },
  {
   "cell_type": "code",
   "execution_count": 4,
   "id": "dying-arrow",
   "metadata": {},
   "outputs": [],
   "source": [
    "def isAIThere(ddict):\n",
    "    if \"isAi\" in ddict['winner'] or \"isAi\" in ddict['loser']:\n",
    "        return True\n",
    "    else:\n",
    "        return False\n",
    "\n",
    "def isAIWinner(ddict):\n",
    "    if isAIThere(ddict):\n",
    "        return ddict['winner'][\"isAi\"]\n",
    "    else:\n",
    "        return None"
   ]
  },
  {
   "cell_type": "code",
   "execution_count": 5,
   "id": "10fec03d-f8ff-40ed-abfa-8d990e4b605e",
   "metadata": {},
   "outputs": [],
   "source": [
    "def get_ship_placement_matrix(pdframe, winner_loser):\n",
    "    bProbs = [[0 for x in range(5)] for x in range(5)]\n",
    "    for index, row in pdframe.iterrows():\n",
    "        board = row[winner_loser]\n",
    "        board = str(board).strip(\"'<>() \").replace('\\'', '\\\"')\n",
    "        board = str(board).replace('True', 'true')\n",
    "        board = str(board).replace('False', 'false')\n",
    "        board = json.loads(board)\n",
    "        board1 = board[\"positions\"]\n",
    "        for k in board1:\n",
    "            for p in board1[k]['cells']:\n",
    "                pos = p[\"origin\"]\n",
    "                bProbs[pos[0]][pos[1]]+=1\n",
    "\n",
    "    mat = np.array(bProbs)\n",
    "    max_val = np.amax(mat)\n",
    "    mat = (mat/max_val)\n",
    "    mat = mat.transpose()\n",
    "    return mat"
   ]
  },
  {
   "cell_type": "code",
   "execution_count": 6,
   "id": "necessary-tomato",
   "metadata": {},
   "outputs": [],
   "source": [
    "keys = []\n",
    "resp = s3.list_objects_v2(Bucket=MYBUCKET)\n",
    "\n",
    "for obj in resp['Contents']:\n",
    "    keyy = obj['Key']\n",
    "    if keyy == 'test.txt':\n",
    "        continue\n",
    "    keyyy = keyy.split(\".json\")[0]\n",
    "    keyyyy = parse(keyyy)\n",
    "    obj['Key'] = keyyy\n",
    "    keys.append(obj['Key'])\n",
    "\n",
    "# print(len(keys))\n",
    "prefix_df = []\n",
    "for x in keys:\n",
    "    if x == \"test.txt\":\n",
    "        print(x)\n",
    "        continue\n",
    "    obj = s3.get_object(\n",
    "        Bucket=MYBUCKET,\n",
    "        Key=x+\".json\"\n",
    "    )\n",
    "    res_json = json.loads(obj['Body'].read().decode(\"utf-8\"))\n",
    "    prefix_df.append({\"date\": x, \"isAI\": isAIWinner(res_json),\n",
    "                      \"winner_board\": res_json[\"winner\"][\"board\"],\n",
    "                      \"winner_attacks\": res_json[\"winner\"][\"attacks\"],\n",
    "                      \"loser_board\": res_json[\"loser\"][\"board\"],\n",
    "                      \"loser_attacks\": res_json[\"loser\"][\"attacks\"],\n",
    "                      \"game\": res_json})"
   ]
  },
  {
   "cell_type": "code",
   "execution_count": 7,
   "id": "64659ddf-c750-44c0-88ec-69564e62d760",
   "metadata": {},
   "outputs": [
    {
     "data": {
      "text/plain": [
       "412   2021-04-13 17:51:36.652000+00:00\n",
       "413   2021-04-13 19:33:16.751000+00:00\n",
       "414   2021-04-14 13:39:21.175000+00:00\n",
       "415   2021-04-14 13:39:37.740000+00:00\n",
       "416   2021-04-14 13:41:10.952000+00:00\n",
       "                    ...               \n",
       "482   2021-04-15 15:05:19.129000+00:00\n",
       "483   2021-04-15 15:05:50.916000+00:00\n",
       "484   2021-04-15 15:10:30.404000+00:00\n",
       "485   2021-04-15 15:15:09.686000+00:00\n",
       "486   2021-04-15 15:27:00.591000+00:00\n",
       "Name: date, Length: 75, dtype: datetime64[ns, UTC]"
      ]
     },
     "execution_count": 7,
     "metadata": {},
     "output_type": "execute_result"
    }
   ],
   "source": [
    "df = pd.DataFrame(prefix_df)\n",
    "df['date'] = pd.to_datetime(df['date'])\n",
    "mask = (df['date'] > \"'2021-04-09'\")\n",
    "df = df.loc[mask]\n",
    "mask = (df['date'] < \"'2021-04-16'\")\n",
    "df = df.loc[mask]\n",
    "df['date']"
   ]
  },
  {
   "cell_type": "code",
   "execution_count": 8,
   "id": "unlimited-earth",
   "metadata": {},
   "outputs": [],
   "source": [
    "df.to_csv(index=False, path_or_buf=\"./s3_exp5.csv\")"
   ]
  },
  {
   "cell_type": "code",
   "execution_count": 9,
   "id": "challenging-dinner",
   "metadata": {},
   "outputs": [],
   "source": [
    "df = pd.read_csv(filepath_or_buffer='./s3_exp5.csv') \n",
    "#print(len(df))"
   ]
  },
  {
   "cell_type": "code",
   "execution_count": 10,
   "id": "advance-peter",
   "metadata": {},
   "outputs": [
    {
     "name": "stdout",
     "output_type": "stream",
     "text": [
      "Simulations played:  75\n",
      "Simulations AI won:  52\n",
      "Simulations AI lost:  23\n",
      "AI win %:  69.33333333333333\n",
      "human win %:  30.666666666666668\n"
     ]
    }
   ],
   "source": [
    "mask1 = (df['isAI'] != None)\n",
    "df = df.loc[mask1]\n",
    "\n",
    "ai_won_df = df[df['isAI'] == True]\n",
    "ai_lost_df = df[df['isAI'] == False]\n",
    "\n",
    "total = len(df)\n",
    "won = len(ai_won_df)\n",
    "lost = len(ai_lost_df)\n",
    "print(\"Simulations played: \",total)\n",
    "print(\"Simulations AI won: \",won)\n",
    "print(\"Simulations AI lost: \",lost)\n",
    "print(\"AI win %: \",won*100/total)\n",
    "print(\"human win %: \",lost*100/total)"
   ]
  },
  {
   "cell_type": "code",
   "execution_count": 11,
   "id": "tender-jenny",
   "metadata": {
    "tags": []
   },
   "outputs": [
    {
     "name": "stdout",
     "output_type": "stream",
     "text": [
      "[[0.88235294 0.76470588 0.70588235 0.64705882 0.47058824]\n",
      " [1.         0.76470588 0.70588235 0.76470588 0.82352941]\n",
      " [0.88235294 0.70588235 0.58823529 0.52941176 0.82352941]\n",
      " [0.82352941 0.64705882 0.76470588 0.47058824 0.82352941]\n",
      " [1.         0.82352941 1.         0.82352941 0.70588235]]\n"
     ]
    },
    {
     "data": {
      "image/png": "[encoded data removed]",
      "text/plain": [
       "<Figure size 288x288 with 1 Axes>"
      ]
     },
     "metadata": {
      "needs_background": "light"
     },
     "output_type": "display_data"
    }
   ],
   "source": [
    "mm = get_ship_placement_matrix(ai_lost_df, \"loser_board\")\n",
    "print(mm)\n",
    "plt.matshow(mm)\n",
    "plt.show()"
   ]
  },
  {
   "cell_type": "code",
   "execution_count": 12,
   "id": "major-nashville",
   "metadata": {},
   "outputs": [
    {
     "name": "stdout",
     "output_type": "stream",
     "text": [
      "[[0.7027027  0.75675676 0.86486486 0.78378378 0.7027027 ]\n",
      " [0.75675676 0.83783784 0.91891892 0.78378378 0.67567568]\n",
      " [0.75675676 0.67567568 0.91891892 0.83783784 0.75675676]\n",
      " [0.86486486 0.7027027  1.         1.         0.62162162]\n",
      " [0.89189189 0.59459459 0.86486486 0.72972973 0.67567568]]\n"
     ]
    },
    {
     "data": {
      "image/png": "[encoded data removed]",
      "text/plain": [
       "<Figure size 288x288 with 1 Axes>"
      ]
     },
     "metadata": {
      "needs_background": "light"
     },
     "output_type": "display_data"
    }
   ],
   "source": [
    "mm = get_ship_placement_matrix(ai_won_df, \"winner_board\")\n",
    "print(mm)\n",
    "plt.matshow(mm)\n",
    "plt.show()"
   ]
  }
 ],
 "metadata": {
  "kernelspec": {
   "display_name": "Python 3",
   "language": "python",
   "name": "python3"
  },
  "language_info": {
   "codemirror_mode": {
    "name": "ipython",
    "version": 3
   },
   "file_extension": ".py",
   "mimetype": "text/x-python",
   "name": "python",
   "nbconvert_exporter": "python",
   "pygments_lexer": "ipython3",
   "version": "3.8.8"
  },
  "toc": {
   "base_numbering": 1,
   "nav_menu": {},
   "number_sections": true,
   "sideBar": true,
   "skip_h1_title": false,
   "title_cell": "Table of Contents",
   "title_sidebar": "Contents",
   "toc_cell": false,
   "toc_position": {},
   "toc_section_display": true,
   "toc_window_display": false
  }
 },
 "nbformat": 4,
 "nbformat_minor": 5
}
